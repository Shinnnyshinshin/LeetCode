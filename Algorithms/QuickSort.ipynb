{
 "cells": [
  {
   "cell_type": "markdown",
   "metadata": {},
   "source": [
    "# Quicksort\n",
    " \n",
    "* How does quicksort work? It works by dividing the list into two smaller lists, one having the smaller items, and one having larger items. The smaller lists are sorted recursively. This explanation and algorithm is adapted heavily from the following link ([InterviewCake](https://www.interviewcake.com/concept/python/quicksort))"
   ]
  },
  {
   "cell_type": "markdown",
   "metadata": {},
   "source": [
    "## Parititioning and the Concept of a Pivot\n",
    "\n",
    "One of the first things that we do is choose the last item in the list. This our pivot\n",
    "\n",
    "![alt text](https://www.interviewcake.com/images/svgs/quicksort__input_unsorted_list.svg?bust=204 \"Unsorted List\")\n",
    "\n"
   ]
  },
  {
   "cell_type": "markdown",
   "metadata": {},
   "source": [
    "The item 4 at the end is our pivot\n",
    "\n",
    "![alt text](https://www.interviewcake.com/images/svgs/quicksort__input_unsorted_list_with_the_bolded_element_pivot.svg?bust=204 \"bolded pivot\")\n"
   ]
  },
  {
   "cell_type": "markdown",
   "metadata": {},
   "source": [
    "Choosing 4 as the pivot means that it will be our \"middle\". Eventually we want to get everything that is smaller than 4 to the left, and everything bigger than 4 to the right.  This is called partitioning. Here is how it's done. \n",
    "\n",
    "* the over all idea is for the program to walk through the left and right side of the list, looking for items that don't 'belong', meaning they are either smaller or larger than the pivot. Let's first look at our 3 pointers, and go through them one by one. You'll notice that our pivot (4) is still at the end of the list. Dont worry about that yet. We'll get to it later\n",
    "\n"
   ]
  },
  {
   "cell_type": "markdown",
   "metadata": {},
   "source": [
    "![alt text](https://www.interviewcake.com/images/svgs/quicksort__input_unsorted_list_with_left_and_right_pointer.svg?bust=204 \"pivotandrightleftarrows\")\n"
   ]
  },
  {
   "cell_type": "markdown",
   "metadata": {},
   "source": [
    "Let's first move the 'right pointer' to the left looking for items that are smaller than the pivot (4).  3 is smaller than 4, so we dont move the pointer, but swap the values in the left and right pointers. \n",
    " ![alt text](https://www.interviewcake.com/images/svgs/quicksort__input_list_with_swappped_8_and_3.svg?bust=204 \"bolded arrows\")"
   ]
  },
  {
   "cell_type": "markdown",
   "metadata": {},
   "source": [
    "When we keep moving the left and right pointers, until the 'cross' in the middle. The left pointer moves past 1 and 2 (which are smaller than the pivot) and then we stop at 7, which is larger than the pivot\n",
    " ![alt text](https://www.interviewcake.com/images/svgs/quicksort__input_list_with_moving_the_left_pointer_to_7.svg?bust=204 \"bolded arrows\")\n",
    "\n",
    "\n",
    "We also move the right pointer past 8, 9, 7, which are all larger than our pivot, and then we stop at 2. \n",
    "\n",
    " ![alt text](https://www.interviewcake.com/images/svgs/quicksort__input_list_with_moving_the_right_pointer_to_2.svg?bust=204 \"bolded arrows\")\n"
   ]
  },
  {
   "cell_type": "markdown",
   "metadata": {},
   "source": [
    "This is a significant moment. It's when the right and left pointers cross. This means that everything to the right of the 'crossing point' is larger than the pivot, and everything to the left of it is smaller. \n",
    "\n",
    "The last thing we do before we recursively sort each half is we move the pivot to the middle, which we do by swapping the values pointed to by the left pointer (7) and the pivot (4). \n",
    "\n",
    " ![alt text](https://www.interviewcake.com/images/svgs/quicksort__input_list_with_swapped_pivot_and_7.svg?bust=204 \"bolded arrows\")\n"
   ]
  },
  {
   "cell_type": "markdown",
   "metadata": {},
   "source": [
    "## Recursively Sorting each half. \n",
    "\n",
    "Now that we have partitioned the list into two smaller pieces, we can recursively sort each piece.  Like merge sort, we can do this recursively. \n",
    "\n",
    "Our base case is one element, which is the original pivot. We will split the larger list into the smaller ones, and then the smaller ones in turn will be sorted in the same way that the larger list was.  Let's walk through the rest of the example .\n",
    "\n",
    "![alt text](https://www.interviewcake.com/images/svgs/quicksort__input__list_divided_on_two_smaller_lists.svg?bust=204)"
   ]
  },
  {
   "cell_type": "markdown",
   "metadata": {},
   "source": [
    "Looking at the sublist on the left: \n",
    "\n",
    "![alt text](https://www.interviewcake.com/images/svgs/quicksort__input_sublist_with_4_elements.svg?bust=204)"
   ]
  },
  {
   "cell_type": "markdown",
   "metadata": {},
   "source": [
    "For the other list, we get the following \n",
    "\n",
    "![alt text](https://www.interviewcake.com/images/svgs/quicksort__input_sublist_with_3_elements.svg?bust=204)"
   ]
  },
  {
   "cell_type": "markdown",
   "metadata": {},
   "source": [
    "# Implementation in Python\n"
   ]
  },
  {
   "cell_type": "code",
   "execution_count": 2,
   "metadata": {},
   "outputs": [],
   "source": [
    "def partition(the_list, first_index, last_index):\n",
    "    # the pivot is always going to be the last index\n",
    "    pivot = the_list[last_index]\n",
    "    \n",
    "    # left poitner\n",
    "    left_pointer = first_index\n",
    "    right_pointer = last_index - 1 # which is the one right behind the pivot. \n",
    "    \n",
    "    while left_pointer <= right_pointer:\n",
    "        # we keep moving the left pointer to the right until we find something that should be on the right side of the pivot\n",
    "        while left_pointer <= last_index and the_list[left_pointer] < pivot:\n",
    "            left_pointer += 1\n",
    "        \n",
    "        # we keep moving the right pointer to the left until we find something that should be on the left side of the pivot\n",
    "        while right_pointer >= first_index and the_list[right_pointer] > pivot:\n",
    "            right_pointer -= 1\n",
    "        \n",
    "        # if we have reached a situation where either of these conditions have not been met then there are two situations. \n",
    "        # 1. we have reached a point where the values need to be swapped \n",
    "        # 2. or we have reached the end and the pivot value needs to be placed in its final position\n",
    "        \n",
    "        if left_pointer < right_pointer:\n",
    "            the_list[right_pointer], the_list[left_pointer] = the_list[left_pointer], the_list[right_pointer]\n",
    "        \n",
    "        # or we put the pivot in its final position\n",
    "        else:\n",
    "            the_list[last_index], the_list[left_pointer] = the_list[left_pointer], the_list[last_index]\n",
    "    return left_pointer\n",
    "\n",
    "        \n",
    "\n",
    "\n",
    "def quicksort_sublist(full_list, first_index, last_index):\n",
    "    \n",
    "    # the base case is when there is one item in the list then we just return the item. \n",
    "    if first_index == last_index:\n",
    "        return \n",
    "    \n",
    "    # we divide the list into two smaller sublists\n",
    "    pivot_index = partition(full_list, first_index, last_index)\n",
    "    \n",
    "    # recursively sort each sublist\n",
    "    quicksort_sublist(full_list, first_index, pivot_index - 1) # the left side\n",
    "    quicksort_sublist(full_list, pivot_index + 1, last_index) # the right side\n",
    "\n",
    "def quicksort(full_list):\n",
    "    quicksort_sublist(full_list, 0, len(full_list)-1) "
   ]
  },
  {
   "cell_type": "markdown",
   "metadata": {},
   "source": [
    "# What about time complexity? \n",
    "\n",
    "- Similar to merge-sort we are dividing the list into smaller and smaller pieces until we hit the base case where there is only one item in the list.  \n",
    "\n",
    "![alt text](https://www.interviewcake.com/images/svgs/quicksort__input_list_breaking_to_sublists.svg?bust=204)"
   ]
  },
  {
   "cell_type": "markdown",
   "metadata": {},
   "source": [
    "Each level there is O(n) work, since we are doing a constant amount of work on each element. \n",
    "\n",
    "If we keep pivot point that is \"sort-of\" in the middle then we are going to have O(log n) levels. So the total average time complexity of the algorithm is O(n log n)."
   ]
  },
  {
   "cell_type": "markdown",
   "metadata": {},
   "source": [
    "However, if we have something that is already sorted, then we are going to go through every level, so our worst case scenario is O(n^2)"
   ]
  },
  {
   "cell_type": "markdown",
   "metadata": {},
   "source": [
    "![alt text](https://www.interviewcake.com/images/svgs/quicksort__input_list_with_the_pivot_at_the_end.svg?bust=204)"
   ]
  },
  {
   "cell_type": "code",
   "execution_count": null,
   "metadata": {},
   "outputs": [],
   "source": []
  }
 ],
 "metadata": {
  "kernelspec": {
   "display_name": "Python 3",
   "language": "python",
   "name": "python3"
  },
  "language_info": {
   "codemirror_mode": {
    "name": "ipython",
    "version": 3
   },
   "file_extension": ".py",
   "mimetype": "text/x-python",
   "name": "python",
   "nbconvert_exporter": "python",
   "pygments_lexer": "ipython3",
   "version": "3.7.4"
  }
 },
 "nbformat": 4,
 "nbformat_minor": 4
}
