{
 "cells": [
  {
   "cell_type": "markdown",
   "metadata": {},
   "source": [
    "# 1_TwoSum\n",
    "\n",
    "TwoSum is an algorithm that returns a list of indices in an array that add up to a given sum x\n",
    "\n",
    "- array : [3, 4, 5, 6]\n",
    "- x : 7\n",
    "\n",
    "The function would return [0,1] which are the indices for '3' and '4' that add up to the number x\n",
    "\n",
    "- edge casees\n",
    "- if there is no sum, then we return empty array\n",
    "- we also can't use the same index twice, so the method would need to check for that\n",
    "- we also want to return the sorted value... because we dont want to switch it up"
   ]
  },
  {
   "cell_type": "code",
   "execution_count": 1,
   "metadata": {},
   "outputs": [],
   "source": [
    "def two_sum(array, x):\n",
    "    # dictionary where key is the value in the array, and the value is the index of the value\n",
    "    nums_dict = {value: index for index, value in enumerate(nums)}\n",
    "    to_return = [] # this is what we are returning\n",
    "    for i in range(array):\n",
    "        current_num = array[i]\n",
    "        diff = target - current_num\n",
    "        if diff in nums_dict.keys():\n",
    "            if i is nums_dict[diff]:\n",
    "                # then we are using the same index twice\n",
    "                continue\n",
    "            to_return.append(i) # current num\n",
    "            to_return.append(nums_dict[diff]) # and the diff\n",
    "    return sorted(to_return)\n"
   ]
  },
  {
   "cell_type": "markdown",
   "metadata": {},
   "source": [
    "# 2_AddTwoNumbers\n",
    "\n",
    "AddTwoNumbers is a situation where we are adding linked lists, which are sorted from smallest to largest number. \n",
    "\n",
    "- Edge cases that we need to think about : \n",
    "- if we need to add one last node at the beginning. \n",
    "\n"
   ]
  },
  {
   "cell_type": "code",
   "execution_count": 2,
   "metadata": {},
   "outputs": [],
   "source": [
    "def my_two_sum_helper(node1, node2, carryover):\n",
    "    mysum = None # to return\n",
    "    if not node1 and not node2 and carryover == 0:\n",
    "        # if there is nothing left return None, which is an exit condition for the function\n",
    "        return (mysum)\n",
    "    else:\n",
    "        mysum = 0 #initialize to 0\n",
    "        if carryover > 0:\n",
    "            mysum += carryover\n",
    "        if node1:\n",
    "            mysum += node1.val\n",
    "        if node2:\n",
    "            mysum += node2.val\n",
    "    return(mysum)\n",
    "\n",
    "# imagine thre \n",
    "def my_twosum(list1_current, list2_current):\n",
    "    carryover = 0\n",
    "    head_node = None # this we may have to reset if we are adding a number that goes into the next order of mag\n",
    "    \n",
    "    # we want to initialize\n",
    "    returnd = my_two_sum_helper(list1_current, list2_current, carryover) # carryover is 0\n",
    "    while returned is not None: # which means we haven't reached the end condition\n",
    "        to_add = returned % 10 # this is just the 1's digit\n",
    "        carryover = returned // 10 # this is the integer diviion\n",
    "        if head_none is None:\n",
    "            # then we are initializing the list to return\n",
    "            head_node = ListNode(to_add)\n",
    "            current_node = head_node # keep this so we can return it\n",
    "        else:\n",
    "            current_node.next = ListNode(to_add)\n",
    "            current_node = current_node.next\n",
    "            # we are moving the current_node along\n",
    "        # move the list nodes along\n",
    "        if list_current1 is not None:\n",
    "            list_current1 = list_current1.next\n",
    "        if list_current2 is not None:\n",
    "            list_current2 = list_current2.next\n",
    "        returned = my_two_sum_helper(list1_current, list2_current, carryover)\n",
    "    return(head_node)\n",
    "                    \n",
    "    "
   ]
  },
  {
   "cell_type": "markdown",
   "metadata": {},
   "source": [
    "# 28_StrStr: \n",
    "\n",
    "Return the index of the first occurrence of needle in haystack, or -1 if needle is not part of haystack.\n",
    "\n",
    "Example 1:\n",
    "\n",
    "Input: haystack = \"hello\", needle = \"ll\"\n",
    "Output: 2\n",
    "Example 2:\n",
    "\n",
    "\n",
    "\n",
    "* so this can be done in one loop \n",
    "\n",
    "* how do you know the inidices\n",
    "\n",
    "for hello and ll\n",
    "             0    1    2    3    4 \n",
    "haystack = ['h', 'e', 'l', 'l', 'o']\n",
    "needle = 'll'\n",
    "\n",
    "* length of haystack is 5\n",
    "* last index of haystack is 4\n",
    "\n",
    "* length of needle is 2\n",
    "\n",
    "we want to only look until the second 'l' which is index which is range(4) whichi s 0,1,2,3 (because range doesn't include the last number)\n",
    "\n",
    "we then compare haystack[i:i+len(needle)] == needle\n",
    "    then return i\n",
    "    or return -1\n",
    "   "
   ]
  },
  {
   "cell_type": "code",
   "execution_count": 3,
   "metadata": {},
   "outputs": [
    {
     "ename": "SyntaxError",
     "evalue": "'return' outside function (<ipython-input-3-762b7181bc2e>, line 5)",
     "output_type": "error",
     "traceback": [
      "\u001b[0;36m  File \u001b[0;32m\"<ipython-input-3-762b7181bc2e>\"\u001b[0;36m, line \u001b[0;32m5\u001b[0m\n\u001b[0;31m    return -1\u001b[0m\n\u001b[0m             ^\u001b[0m\n\u001b[0;31mSyntaxError\u001b[0m\u001b[0;31m:\u001b[0m 'return' outside function\n"
     ]
    }
   ],
   "source": [
    "def strstr(needle, haystack):\n",
    "    for i in range(len(haystack) - len(needle) + 1): # because range doesn't include the last number\n",
    "        if haystack[i:i+len(needle)] == needle:\n",
    "            return i\n",
    "return -1\n"
   ]
  },
  {
   "cell_type": "markdown",
   "metadata": {},
   "source": [
    "# 61_PlusOne\n",
    "\n",
    "* So for this one you have an array that represents a number. You want to return an array that represents +1 to that number. \n",
    "\n",
    "array = [1, 2, 3]\n",
    "return = [1, 2, 4]\n",
    "\n",
    "What sort of special cases are there??\n",
    "- when we have to carry the one\n",
    "- when we have to add to the beginning of the list [9, 9, 9] => [1,0,0,0]\n",
    "\n",
    "how do we do this?\n",
    "- we first add to the end to the end\n",
    "- and then we loop through the array backwards, and keep adding 1, or add 1 to the beginning of the list \n",
    "\n"
   ]
  },
  {
   "cell_type": "code",
   "execution_count": 4,
   "metadata": {},
   "outputs": [],
   "source": [
    "def plus_one(digits):\n",
    "    # first take care of the base csase\n",
    "    digits[-1] = digits[-1] + 1\n",
    "    # loop backwards\n",
    "    for index, _ in reversed(list(enumerate(digits))):\n",
    "        if digits[index] > 9:\n",
    "            # do the carry\n",
    "            if index != 0:\n",
    "                digits[index-1] += 1\n",
    "            else:\n",
    "                digits = [1] + digits"
   ]
  },
  {
   "cell_type": "markdown",
   "metadata": {},
   "source": [
    "# 69_Sqrt\n",
    "* This function returns the integer of a square root of x\n",
    "\n",
    "What are the constraints? \n",
    "- x is guaranteed to be an integer\n",
    "- x is guaranteed to be > 0\n",
    "\n",
    "* we are basically doing a binary search for the 69_Sqrt\n",
    "\n",
    "### Base cases\n",
    "- if x is 0 or x is 1 then we return x\n",
    "\n",
    "\n",
    "\n"
   ]
  },
  {
   "cell_type": "code",
   "execution_count": 1,
   "metadata": {},
   "outputs": [],
   "source": [
    "def sqrt(x):\n",
    "    # let's handle the base case first\n",
    "    if x is 0 or x is 1:\n",
    "        return x\n",
    "\n",
    "\n",
    "    start = 1\n",
    "    end = x // 2 # the middle\n",
    "    answer = None\n",
    "\n",
    "    while start <= end:\n",
    "        mid = (start + end) // 2 # to do the integer division\n",
    "        sqr = mid * mid\n",
    "        if sqr is x: # we got it!\n",
    "\n",
    "            answer = int(mid)\n",
    "            break\n",
    "        elif sqr <= x:\n",
    "            # get rid of left search space\n",
    "            start = mid + 1\n",
    "            answer = int(mid)\n",
    "        else:\n",
    "            end = mid - 1\n",
    "    return answer\n",
    "    \n"
   ]
  },
  {
   "cell_type": "markdown",
   "metadata": {},
   "source": [
    "# 264_UglyNumber\n",
    "* what is an ugly number?\n",
    "* it is a number whose prime factors only include 2, 3, 5\n",
    "\n",
    "for example 6 is an ugly number : \n",
    " - because 2x3 = 6\n",
    "\n",
    " ## how do we approach it?\n",
    "\n",
    "- the one that I can get working is an iterative solution: \n",
    "- loop through 2,3,5\n",
    "- go until % is 0 \n",
    "- and then keep dividing down\n",
    "\n",
    "- if at the end we have 1 then we are ugly, if not, then we are not. "
   ]
  },
  {
   "cell_type": "code",
   "execution_count": 2,
   "metadata": {},
   "outputs": [],
   "source": [
    "def isUgly(num):\n",
    "    if num <= 0:\n",
    "        return False\n",
    "    for p in [2,3,5]:\n",
    "        while num % p == 0:\n",
    "            num %= p\n",
    "    return num == 1\n",
    "    "
   ]
  },
  {
   "cell_type": "markdown",
   "metadata": {},
   "source": [
    "# 322_CoinChange\n",
    "\n",
    "You are given coins of different denominations and a total amount of money amount. Write a function to compute the fewest number of coins that you need to make up that amount. If that amount of money cannot be made up by any combination of the coins, return -1.\n",
    "\n",
    "## example : \n",
    "\n",
    "coins = [1,2,5]\n",
    "amount = 11\n",
    "return = 3 (which is 5+5+1)\n",
    "\n",
    "## this has the hallmarks of a dynamic programming solution.\n",
    "\n",
    "- overlapping sub-problem\n",
    "- overlapping structure"
   ]
  },
  {
   "cell_type": "code",
   "execution_count": 3,
   "metadata": {},
   "outputs": [
    {
     "ename": "SyntaxError",
     "evalue": "invalid syntax (<ipython-input-3-d1f0abdacacc>, line 17)",
     "output_type": "error",
     "traceback": [
      "\u001b[0;36m  File \u001b[0;32m\"<ipython-input-3-d1f0abdacacc>\"\u001b[0;36m, line \u001b[0;32m17\u001b[0m\n\u001b[0;31m    if (sub_res != sys.maxsize and subres + 1 < table[i])\u001b[0m\n\u001b[0m                                                         ^\u001b[0m\n\u001b[0;31mSyntaxError\u001b[0m\u001b[0;31m:\u001b[0m invalid syntax\n"
     ]
    }
   ],
   "source": [
    "\n",
    "def coinChange(coins, num_to_search):\n",
    "    num_coins = len(coins)\n",
    "    # we make a table that can be referred to\n",
    "\n",
    "    table = [0 for i in range(num_to_search + 1)]\n",
    "    \n",
    "    # base case if V = 0\n",
    "    table[0] = 0\n",
    "\n",
    "    # initialize all values to infinite : \n",
    "    for i in range(1, num_to_search + 1):\n",
    "        table[i] = sys.maxsize\n",
    "    for i in range(1, num_to_search + 1):\n",
    "        for j in range(num_coins):\n",
    "            if coins[j] <= i:\n",
    "                sub_res = table[i - coins[j]]\n",
    "                if (sub_res != sys.maxsize and subres + 1 < table[i])\n",
    "                    table[i] = subres + 1\n",
    "    return table[num_to_search]\n"
   ]
  },
  {
   "cell_type": "markdown",
   "metadata": {},
   "source": [
    "# BinaryTree Methods\n",
    "\n",
    "* Binary trees are the bread and butter of it all. \n",
    "\n",
    "\n",
    "## how does a BFS work : \n",
    "## we are just adding to a queue, which is first in first out. \n",
    "\n",
    "* it's just a line that you get into "
   ]
  },
  {
   "cell_type": "code",
   "execution_count": null,
   "metadata": {},
   "outputs": [],
   "source": [
    "\n",
    "class BFS_traversal: \n",
    "    def __init__(self):\n",
    "        self.root = None\n",
    "        self.bfsqueue = dequeue()\n",
    "    def BFS_traversal(self, node):\n",
    "        if none is None:\n",
    "            # no root. base case. just return\n",
    "            return\n",
    "        # add the root \n",
    "        self.bfsqueue.append(node):\n",
    "        while(len(self.bfsqueue) > 0):\n",
    "            print(node.val)\n",
    "            node = self.bfsqueue.popleft() # is the first one\n",
    "            if node.left is not None:\n",
    "                self.bfsqueue.append(node.left)\n",
    "            if node.right is not None:\n",
    "                self.bfsqueue.append(node.right)\n",
    "\n",
    "            "
   ]
  },
  {
   "cell_type": "markdown",
   "metadata": {},
   "source": [
    "## How does a DFS traversal work\n",
    "\n",
    "\"\"\"\n",
    "Tree Traversals (Inorder, Preorder and Postorder)\n",
    "Unlike linear data structures (Array, Linked List, Queues, Stacks, etc) which have only one logical way to traverse them, trees can be traversed in different ways. Following are the generally used ways for traversing trees.\n",
    "\n",
    "\n",
    "│       ┌── 14\n",
    "│   ┌── 10\n",
    "│   │   └── 9\n",
    "└── 8\n",
    "    │   ┌── 6\n",
    "    └── 3\n",
    "        └── 2\n",
    "\n",
    "\n",
    "(A) InOrder (Left, Root, Right) : 2, 3, 6, 8, 9, 10, 14\n",
    "(B) PreOrder (root, left, rghgt) : 8, 3, 2, 6, 10, 9, 14\n",
    "(C) postOrder  (left, right, rot): 2, 6, 3, 9, 14, 10, 8"
   ]
  },
  {
   "cell_type": "code",
   "execution_count": 4,
   "metadata": {},
   "outputs": [
    {
     "output_type": "error",
     "ename": "NameError",
     "evalue": "name 'BinaryTree' is not defined",
     "traceback": [
      "\u001b[0;31m---------------------------------------------------------------------------\u001b[0m",
      "\u001b[0;31mNameError\u001b[0m                                 Traceback (most recent call last)",
      "\u001b[0;32m<ipython-input-4-4b805e334d83>\u001b[0m in \u001b[0;36m<module>\u001b[0;34m\u001b[0m\n\u001b[1;32m      1\u001b[0m \u001b[0;31m# so we are going to extend the binary tree to have a BFS_Traversal\u001b[0m\u001b[0;34m\u001b[0m\u001b[0;34m\u001b[0m\u001b[0;34m\u001b[0m\u001b[0m\n\u001b[0;32m----> 2\u001b[0;31m \u001b[0;32mclass\u001b[0m \u001b[0mDFStree\u001b[0m\u001b[0;34m(\u001b[0m\u001b[0mBinaryTree\u001b[0m\u001b[0;34m.\u001b[0m\u001b[0mTree\u001b[0m\u001b[0;34m)\u001b[0m\u001b[0;34m:\u001b[0m\u001b[0;34m\u001b[0m\u001b[0;34m\u001b[0m\u001b[0m\n\u001b[0m\u001b[1;32m      3\u001b[0m     \u001b[0;32mdef\u001b[0m \u001b[0m__init__\u001b[0m\u001b[0;34m(\u001b[0m\u001b[0mself\u001b[0m\u001b[0;34m)\u001b[0m\u001b[0;34m:\u001b[0m\u001b[0;34m\u001b[0m\u001b[0;34m\u001b[0m\u001b[0m\n\u001b[1;32m      4\u001b[0m         \u001b[0mself\u001b[0m\u001b[0;34m.\u001b[0m\u001b[0mroot\u001b[0m \u001b[0;34m=\u001b[0m \u001b[0;32mNone\u001b[0m\u001b[0;34m\u001b[0m\u001b[0;34m\u001b[0m\u001b[0m\n\u001b[1;32m      5\u001b[0m         \u001b[0mself\u001b[0m\u001b[0;34m.\u001b[0m\u001b[0mdfsstack\u001b[0m \u001b[0;34m=\u001b[0m \u001b[0mdeque\u001b[0m\u001b[0;34m(\u001b[0m\u001b[0;34m)\u001b[0m\u001b[0;34m\u001b[0m\u001b[0;34m\u001b[0m\u001b[0m\n",
      "\u001b[0;31mNameError\u001b[0m: name 'BinaryTree' is not defined"
     ]
    }
   ],
   "source": [
    "# so we are going to extend the binary tree to have a BFS_Traversal\n",
    "class DFStree(BinaryTree.Tree):\n",
    "    def __init__(self):\n",
    "        self.root = None\n",
    "        self.dfsstack = deque()\n",
    "\n",
    "    def preOrder(self, node):\n",
    "        if node is None:\n",
    "            return\n",
    "        print(node.val)\n",
    "        self.preOrder(node.left)\n",
    "        self.preOrder(node.right)\n",
    "\n",
    "    def postOrder(self, node):\n",
    "        if node is None:\n",
    "            return\n",
    "        self.postOrder(node.left)\n",
    "        self.postOrder(node.right)\n",
    "        print(node.val)\n",
    "\n",
    "\n",
    "    def inOrder(self, node):\n",
    "        if node is None:\n",
    "            return\n",
    "        self.inOrder(node.left)\n",
    "        print(node.val)\n",
    "        self.inOrder(node.right)\n",
    ""
   ]
  },
  {
   "cell_type": "code",
   "execution_count": null,
   "metadata": {},
   "outputs": [],
   "source": []
  }
 ],
 "metadata": {
  "kernelspec": {
   "display_name": "Python 3",
   "language": "python",
   "name": "python3"
  },
  "language_info": {
   "codemirror_mode": {
    "name": "ipython",
    "version": 3
   },
   "file_extension": ".py",
   "mimetype": "text/x-python",
   "name": "python",
   "nbconvert_exporter": "python",
   "pygments_lexer": "ipython3",
   "version": "3.7.4-final"
  }
 },
 "nbformat": 4,
 "nbformat_minor": 4
}