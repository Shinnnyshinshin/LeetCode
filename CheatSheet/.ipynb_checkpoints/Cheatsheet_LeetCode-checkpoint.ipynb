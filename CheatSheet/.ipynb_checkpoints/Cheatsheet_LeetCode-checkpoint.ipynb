{
 "cells": [
  {
   "cell_type": "markdown",
   "metadata": {},
   "source": [
    "# 1_TwoSum\n",
    "\n",
    "TwoSum is an algorithm that returns a list of indices in an array that add up to a given sum x\n",
    "\n",
    "- array : [3, 4, 5, 6]\n",
    "- x : 7\n",
    "\n",
    "The function would return [0,1] which are the indices for '3' and '4' that add up to the number x\n",
    "\n",
    "- edge casees\n",
    "- if there is no sum, then we return empty array\n",
    "- we also can't use the same index twice, so the method would need to check for that\n",
    "- we also want to return the sorted value... because we dont want to switch it up"
   ]
  },
  {
   "cell_type": "code",
   "execution_count": 1,
   "metadata": {},
   "outputs": [],
   "source": [
    "def two_sum(array, x):\n",
    "    # dictionary where key is the value in the array, and the value is the index of the value\n",
    "    nums_dict = {value: index for index, value in enumerate(nums)}\n",
    "    to_return = [] # this is what we are returning\n",
    "    for i in range(array):\n",
    "        current_num = array[i]\n",
    "        diff = target - current_num\n",
    "        if diff in nums_dict.keys():\n",
    "            if i is nums_dict[diff]:\n",
    "                # then we are using the same index twice\n",
    "                continue\n",
    "            to_return.append(i) # current num\n",
    "            to_return.append(nums_dict[diff]) # and the diff\n",
    "    return sorted(to_return)\n"
   ]
  },
  {
   "cell_type": "markdown",
   "metadata": {},
   "source": [
    "# 2_AddTwoNumbers\n",
    "\n",
    "AddTwoNumbers is a situation where we are adding linked lists, which are sorted from smallest to largest number. \n",
    "\n",
    "- Edge cases that we need to think about : \n",
    "- if we need to add one last node at the beginning. \n",
    "\n"
   ]
  },
  {
   "cell_type": "code",
   "execution_count": null,
   "metadata": {},
   "outputs": [],
   "source": [
    "def my_two_sum_helper(node1, node2, carryover):\n",
    "    mysum = None # to return\n",
    "    if not node1 and not node2 and carryover == 0:\n",
    "        # if there is nothing left return None, which is an exit condition for the function\n",
    "        return (mysum)\n",
    "    else:\n",
    "        mysum = 0 #initialize to 0\n",
    "        if carryover > 0:\n",
    "            mysum += carryover\n",
    "        if node1:\n",
    "            mysum += node1.val\n",
    "        if node2:\n",
    "            mysum += node2.val\n",
    "    return(mysum)\n",
    "\n",
    "# imagine thre \n",
    "def my_twosum(list1_current, list2_current):\n",
    "    carryover = 0\n",
    "    head_node = None # this we may have to reset if we are adding a number that goes into the next order of mag\n",
    "    \n",
    "    # we want to initialize\n",
    "    returnd = my_two_sum_helper(list1_current, list2_current, carryover) # carryover is 0\n",
    "    while returned is not None: # which means we haven't reached the end condition\n",
    "        to_add = returned % 10 # this is just the 1's digit\n",
    "        carryover = returned // 10 # this is the integer diviion\n",
    "        if head_none is None:\n",
    "            # then we are initializing the list to return\n",
    "            head_node = ListNode(to_add)\n",
    "            current_node = head_node # keep this so we can return it\n",
    "        else:\n",
    "            current_node.next = ListNode(to_add)\n",
    "            current_node = current_node.next\n",
    "            # we are moving the current_node along\n",
    "        # move the list nodes along\n",
    "        if list_current1 is not None:\n",
    "            list_current1 = list_current1.next\n",
    "        if list_current2 is not None:\n",
    "            list_current2 = list_current2.next\n",
    "        returned = my_two_sum_helper(list1_current, list2_current, carryover)\n",
    "    return(head_node)\n",
    "                    \n",
    "    "
   ]
  }
 ],
 "metadata": {
  "kernelspec": {
   "display_name": "Python 3",
   "language": "python",
   "name": "python3"
  },
  "language_info": {
   "codemirror_mode": {
    "name": "ipython",
    "version": 3
   },
   "file_extension": ".py",
   "mimetype": "text/x-python",
   "name": "python",
   "nbconvert_exporter": "python",
   "pygments_lexer": "ipython3",
   "version": "3.7.4"
  }
 },
 "nbformat": 4,
 "nbformat_minor": 4
}
