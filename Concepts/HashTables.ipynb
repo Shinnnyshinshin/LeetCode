{
 "cells": [
  {
   "cell_type": "markdown",
   "metadata": {},
   "source": [
    "# Why make a python hashtable? \n",
    "\n",
    "Python already has the dictionary collection that already implements a HashTable internally. This gives O(1) look-ups in most cases. Here I am seeking to understand the data structure better by building my own.\n",
    "\n",
    "Note : A great deal of these notes have been adapted from this fantastic [blog entry](https://coderbook.com/@marcus/how-to-create-a-hash-table-from-scratch-in-python/)"
   ]
  },
  {
   "cell_type": "markdown",
   "metadata": {},
   "source": [
    "### The Hash Function\n",
    "\n",
    "The hash functions is what allows for lookups to be done in constant time. The key will be pumped through the hash() function, which will return a \"unique\" integer, which will be used to calculate the index that the new object will be added.\n"
   ]
  },
  {
   "cell_type": "code",
   "execution_count": 1,
   "metadata": {},
   "outputs": [
    {
     "data": {
      "text/plain": [
       "100"
      ]
     },
     "execution_count": 1,
     "metadata": {},
     "output_type": "execute_result"
    }
   ],
   "source": [
    "hash(100)"
   ]
  },
  {
   "cell_type": "code",
   "execution_count": 2,
   "metadata": {},
   "outputs": [
    {
     "data": {
      "text/plain": [
       "9018687441287506589"
      ]
     },
     "execution_count": 2,
     "metadata": {},
     "output_type": "execute_result"
    }
   ],
   "source": [
    "hash('blah')"
   ]
  },
  {
   "cell_type": "markdown",
   "metadata": {},
   "source": [
    "\n",
    "# HashTable Object\n",
    "\n"
   ]
  },
  {
   "cell_type": "code",
   "execution_count": null,
   "metadata": {},
   "outputs": [],
   "source": [
    "class HashTable(object):\n",
    "    \n",
    "    def __init__(self, size=10):\n",
    "        self.array = [None] * size # initialize a table with None / empty values\n",
    "  \n",
    "    def hash(self, key): # get the index in our table with a specific key\n",
    "        return hash(key) % len(self.array) # so here we are taking it and we are turning into some function of the length of the current \n",
    "    \n",
    "    def add(self, key, value):\n",
    "        # first we are adding to the table based on it's key\n",
    "        # a case could happen where we are trying to add to an index where something already exists. we will have to deal with it somehow\n",
    "        ind_to_add = self.hash(key)\n",
    "        if self.array[ind_to_add] is not None:\n",
    "            # a situation where index already exists there. There are 2 possibilities. \n",
    "            # we can update an existing key-value pair \n",
    "            keyvalpairs = self.array[ind_to_add]\n",
    "            for keyval in keyvalpairs:\n",
    "                if keyval[0] == key:\n",
    "                    keyval[1] = value\n",
    "                break\n",
    "            else:\n",
    "                # then we just add to the end of the index\n",
    "                self.array[index].append([key, value])\n",
    "        else:\n",
    "            # if there is nothing in the hashtable then we can add at the index. Just add\n",
    "            # first create a new array for the index\n",
    "            self.array[ind_to_add] = []\n",
    "            self.array[ind_to_add].append([key, value])\n",
    "    \n",
    "    def get(self, key, value):\n",
    "        ind_to_search = self.hash(key)\n",
    "        # if there is nothing then return error? \n",
    "        if self.array[index_to_search] is None: \n",
    "            raise KeyError()\n",
    "        else:\n",
    "            # then we can at least loop through all fo the key value pairs\n",
    "            \n",
    "            for keyvalpairs in self.array[ind_to_search]:\n",
    "                if keyvalpair[0] == key:\n",
    "                    return keyvalpair[1]\n",
    "        \n",
    "            # we get to the end of the list without doing anything, then we have another problem. \n",
    "            raise KeyError()\n",
    "        \n",
    "    "
   ]
  },
  {
   "cell_type": "markdown",
   "metadata": {},
   "source": [
    "So here is version 1 of the algorithm, we don't have the whole data structure fleshed out, but it's a start. \n",
    "\n",
    "* the __init__ function creates an empty hashtable, stored int he self.array variable. The default size of the array is 10, and the default value is None. \n",
    "\n",
    "* the hash() function calculates the index for the key value to be stored by using the built in hash() func, which generates a unique integer for a particular key. We hash a string into an integer value, and then we mod that value by the size of of the array, which gives us the numerical index in which the key-value pair will be stored.\n",
    "\n",
    "* the add() fuction attempts to look for a key-value in the hashed index. If the index of the array is still None (the initial value), then it means that nothing has been added yet.  The function will add the key value pair to the location. If the key-value pair already exists, then the function will update the value, and if only other key-value pairs exist at that index, then the function will add to the end of the list. \n",
    "\n",
    "* the get() function attemps to look up the key-value pair at the hashed index. It will loop through all the key values at a given hash index, and if found, will return the value corresponding value to the inputted key. If not, the it will reutrn a KeyError()"
   ]
  },
  {
   "cell_type": "markdown",
   "metadata": {},
   "source": [
    "## Improving on the HashTable\n",
    "\n"
   ]
  },
  {
   "cell_type": "markdown",
   "metadata": {},
   "source": [
    "The problem with the current set-up is there are only 10 slots. How can we dynamically increase the size of our hashtable. There are two pieces to this problem. First we want to determine when the Hashtable is too big, and then be able to rearrange and distribute the items in hash table by their new hash value.\n"
   ]
  },
  {
   "cell_type": "code",
   "execution_count": 1,
   "metadata": {},
   "outputs": [],
   "source": [
    "class HashTable(object):\n",
    "    \n",
    "    def __init__(self, size=10):\n",
    "        self.array = [None] * size # initialize a table with None / empty values\n",
    "  \n",
    "    def hash(self, key): # get the index in our table with a specific key\n",
    "        return hash(key) % len(self.array) # so here we are taking it and we are turning into some function of the length of the current \n",
    "    \n",
    "    def add(self, key, value):\n",
    "        # first we are adding to the table based on it's key\n",
    "        # a case could happen where we are trying to add to an index where something already exists. we will have to deal with it somehow\n",
    "        ind_to_add = self.hash(key)\n",
    "        if self.array[ind_to_add] is not None:\n",
    "            # a situation where index already exists there. There are 2 possibilities. \n",
    "            # we can update an existing key-value pair \n",
    "            keyvalpairs = self.array[ind_to_add]\n",
    "            for keyval in keyvalpairs:\n",
    "                if keyval[0] == key:\n",
    "                    keyval[1] = value\n",
    "                break\n",
    "            else:\n",
    "                # then we just add to the end of the index\n",
    "                self.array[index].append([key, value])\n",
    "        else:\n",
    "            # if there is nothing in the hashtable then we can add at the index. Just add\n",
    "            # first create a new array for the index\n",
    "            self.array[ind_to_add] = []\n",
    "            self.array[ind_to_add].append([key, value])\n",
    "        # this is the new function that is now extended\n",
    "        if self.is_full():\n",
    "            self.double_hash()\n",
    "    \n",
    "    def get(self, key, value):\n",
    "        ind_to_search = self.hash(key)\n",
    "        # if there is nothing then return error? \n",
    "        if self.array[index_to_search] is None: \n",
    "            raise KeyError()\n",
    "        else:\n",
    "            # then we can at least loop through all fo the key value pairs\n",
    "            \n",
    "            for keyvalpairs in self.array[ind_to_search]:\n",
    "                if keyvalpair[0] == key:\n",
    "                    return keyvalpair[1]\n",
    "        \n",
    "            # we get to the end of the list without doing anything, then we have another problem. \n",
    "            raise KeyError()\n",
    "            \n",
    "\n",
    "    \"\"\"\n",
    "    new functions here\n",
    "    \"\"\"\n",
    "    \n",
    "    def is_full(self):\n",
    "        num_items = 0\n",
    "        for item in self.array:\n",
    "            if item is not None:\n",
    "                num_items += 1\n",
    "        # this is true if the hashtable is more than 1/2 full \n",
    "        return num_items > len(self.array) / 2\n",
    "    \n",
    "    \n",
    "    def double_hash(self):\n",
    "        # allocate new hash table\n",
    "        newhash = HashTable(size=(len(self.array)*2))\n",
    "        \n",
    "        # for each item in the array then we want to re-add to the array\n",
    "        for i in range(len(self.array)):\n",
    "            if self.array[i] is None: \n",
    "                continue # nothing to see here folks\n",
    "            else:\n",
    "                for keyvalpair in self.array[i]:\n",
    "                    newhash.add(kevalpair[0], keyvalpair[1])\n",
    "                    \n",
    "        # once we have re-added then we replace\n",
    "        self.array = newhash\n",
    "        \n",
    "                "
   ]
  },
  {
   "cell_type": "code",
   "execution_count": null,
   "metadata": {},
   "outputs": [],
   "source": []
  }
 ],
 "metadata": {
  "kernelspec": {
   "display_name": "Python 3",
   "language": "python",
   "name": "python3"
  },
  "language_info": {
   "codemirror_mode": {
    "name": "ipython",
    "version": 3
   },
   "file_extension": ".py",
   "mimetype": "text/x-python",
   "name": "python",
   "nbconvert_exporter": "python",
   "pygments_lexer": "ipython3",
   "version": "3.7.4"
  }
 },
 "nbformat": 4,
 "nbformat_minor": 2
}
