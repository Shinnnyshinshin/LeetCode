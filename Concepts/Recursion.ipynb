{
 "cells": [
  {
   "cell_type": "markdown",
   "metadata": {},
   "source": [
    "# Recursion\n",
    "\n",
    "This document includes my notes from the two sub-courses on recursion from LeetCode.\n",
    "\n",
    "Here is [Part 1](https://leetcode.com/explore/featured/card/recursion-i/) and [Part II](https://leetcode.com/explore/featured/card/recursion-io/)\n",
    "\n",
    "\n",
    "\n",
    "A recursive function should have the following properties so that it does not result in an infinite loop:\n",
    "1. A simple base case (or cases) — a terminating scenario that does not use recursion to produce an answer.\n",
    "2. A set of rules, also known as recurrence relation that reduces all other cases towards the base case."
   ]
  },
  {
   "cell_type": "markdown",
   "metadata": {},
   "source": [
    "## Coding problem 1\n"
   ]
  },
  {
   "cell_type": "markdown",
   "metadata": {},
   "source": [
    "Write a function that reverses a string. The input string is given as an array of characters char[].\n",
    "\n",
    "Do not allocate extra space for another array, you must do this by modifying the input array in-place with O(1) extra memory.\n",
    "\n",
    "You may assume all the characters consist of printable ascii characters.\n",
    "\n",
    " \n",
    "\n",
    "Example 1:\n",
    "\n",
    "Input: [\"h\",\"e\",\"l\",\"l\",\"o\"]\n",
    "Output: [\"o\",\"l\",\"l\",\"e\",\"h\"]\n",
    "Example 2:\n",
    "\n",
    "Input: [\"H\",\"a\",\"n\",\"n\",\"a\",\"h\"]\n",
    "Output: [\"h\",\"a\",\"n\",\"n\",\"a\",\"H\"]"
   ]
  },
  {
   "cell_type": "code",
   "execution_count": 2,
   "metadata": {},
   "outputs": [
    {
     "name": "stdout",
     "output_type": "stream",
     "text": [
      "h\n",
      "a\n",
      "n\n",
      "n\n",
      "a\n",
      "H\n"
     ]
    }
   ],
   "source": [
    "# so here is the first version. It just prints out the characters until we get to the end. We aren't reversing the string. \n",
    "def my_reverseString(s):\n",
    "    if len(s) < 1:\n",
    "        return\n",
    "    print(s[len(s)-1])\n",
    "    my_reverseString(s[0:-1])\n",
    "    \n",
    "class Solution(object):\n",
    "    def reverseString(self, s):\n",
    "        return my_reverseString(s)\n",
    "\n",
    "Solution().reverseString([\"H\",\"a\",\"n\",\"n\",\"a\",\"h\"])"
   ]
  },
  {
   "cell_type": "code",
   "execution_count": 10,
   "metadata": {},
   "outputs": [
    {
     "name": "stdout",
     "output_type": "stream",
     "text": [
      "['h', 'a', 'n', 'n', 'a', 'H']\n"
     ]
    }
   ],
   "source": [
    "# how does it do this?\n",
    "def partition(s, first_ind, last_ind):\n",
    "    # this is the function that will recursively call teh switching until we get to a point where the first and last indices meet\n",
    "    if first_ind >= last_ind:\n",
    "        print(s)\n",
    "        return\n",
    "    else:\n",
    "        temp = s[first_ind]\n",
    "        s[first_ind] = s[last_ind]\n",
    "        s[last_ind] = temp\n",
    "        partition(s, first_ind + 1, last_ind -1)\n",
    "        \n",
    "def my_reverseString(s):\n",
    "    # initialize first call to the beginning and end of list\n",
    "    first_ind = 0\n",
    "    last_ind = len(s)-1\n",
    "    new_s = partition(s, first_ind, last_ind)\n",
    "    \n",
    "    \n",
    "class Solution(object):\n",
    "    def reverseString(self, s):\n",
    "        return my_reverseString(s)\n",
    "Solution().reverseString([\"H\",\"a\",\"n\",\"n\",\"a\",\"h\"])"
   ]
  },
  {
   "cell_type": "markdown",
   "metadata": {},
   "source": [
    "## Recursive Functions"
   ]
  },
  {
   "cell_type": "markdown",
   "metadata": {},
   "source": [
    "When it comes to problems with a recursive solution, we have a helpful set of steps that can be followed. \n",
    "\n",
    "The problem is first defined as function F(X) to implement, where X is the input of the function which also defines the scope of the problem. \n",
    "\n",
    "1. we break the problem into smaller scopes \n",
    "2. call the functions F(x) recusrively to solve the subproblems of X. \n",
    "3. process the results from the recursive function calls to solve the problem corresponding to X. \n"
   ]
  },
  {
   "cell_type": "markdown",
   "metadata": {},
   "source": [
    "Given a linked list, swap every two adjacent nodes and return its head.\n",
    "\n",
    "e.g.  for a list 1-> 2 -> 3 -> 4, one should return the head of list as 2 -> 1 -> 4 -> 3."
   ]
  },
  {
   "cell_type": "markdown",
   "metadata": {},
   "source": [
    "Following the guidelines we lay out above, we can implement the function as follows:\n",
    "\n",
    "1. First, we swap the first two nodes in the list, i.e. head and head.next;\n",
    "2. Then, we call the function self as swap(head.next.next) to swap the rest of the list following the first two nodes.\n",
    "3. Finally, we attach the returned head of the sub-list in step (2) with the two nodes swapped in step (1) to form a new linked list."
   ]
  },
  {
   "cell_type": "code",
   "execution_count": 30,
   "metadata": {},
   "outputs": [],
   "source": [
    "# this is the prompt. Let's see if we can solve it. \n",
    "\n",
    "# Definition for singly-linked list.\n",
    "# class ListNode(object):\n",
    "#     def __init__(self, x):\n",
    "#         self.val = x\n",
    "#         self.next = None\n",
    "\n",
    "class Solution(object):\n",
    "    def swapPairs(self, head):\n",
    "        \"\"\"\n",
    "        :type head: ListNode\n",
    "        :rtype: ListNode\n",
    "        \"\"\"\n",
    "        "
   ]
  },
  {
   "cell_type": "code",
   "execution_count": 86,
   "metadata": {},
   "outputs": [
    {
     "name": "stdout",
     "output_type": "stream",
     "text": [
      "1\n",
      "2\n",
      "3\n",
      "4\n"
     ]
    }
   ],
   "source": [
    "\n",
    "# Definition for singly-linked list.\n",
    "class ListNode(object):\n",
    "    def __init__(self, x):\n",
    "        self.val = x\n",
    "        self.next = None\n",
    "    def set_next(self, nextval):\n",
    "        self.next = nextval\n",
    "    \n",
    "\n",
    "# make list and test case for printing them. \n",
    "global MasterList\n",
    "MasterList = []\n",
    "# Make and Add nodes\n",
    "FirstNode = ListNode(4)\n",
    "MasterList.insert(0, FirstNode)\n",
    "\n",
    "SecondNode = ListNode(3)\n",
    "SecondNode.set_next(FirstNode)\n",
    "MasterList.insert(0, SecondNode)\n",
    "\n",
    "ThirdNode = ListNode(2)\n",
    "ThirdNode.set_next(SecondNode)\n",
    "MasterList.insert(0, ThirdNode)\n",
    "\n",
    "FourthNode = ListNode(1)\n",
    "FourthNode.set_next(ThirdNode)\n",
    "MasterList.insert(0, FourthNode)\n",
    "\n",
    "# Given head node print the values that we need\n",
    "current_node = MasterList[0]\n",
    "while(current_node is not None):\n",
    "    print(current_node.val)\n",
    "    current_node = current_node.next\n",
    "\n",
    "\n",
    "    \n",
    "    "
   ]
  },
  {
   "cell_type": "code",
   "execution_count": 87,
   "metadata": {},
   "outputs": [
    {
     "name": "stdout",
     "output_type": "stream",
     "text": [
      "2\n",
      "1\n",
      "4\n",
      "3\n"
     ]
    }
   ],
   "source": [
    "\n",
    "# this is the function that we need \n",
    "def swapOneWithNext(first_node):\n",
    "    second_node = first_node.next\n",
    "    if second_node is not None:\n",
    "        # swap \n",
    "        third_node = second_node.next # third node can be none\n",
    "        if third_node is not None:\n",
    "            first_node.next =  swapOneWithNext(third_node)\n",
    "        else:\n",
    "            first_node.next = None\n",
    "        second_node.next = first_node\n",
    "    return second_node\n",
    "    \n",
    "\n",
    "class Solution(object):\n",
    "    def swapPairs(self, head):\n",
    "        head = swapOneWithNext(head)\n",
    "        current_node = head\n",
    "        while(current_node is not None):\n",
    "            print(current_node.val)\n",
    "            current_node = current_node.next\n",
    "\n",
    "Solution().swapPairs(MasterList[0])\n",
    "        \n"
   ]
  },
  {
   "cell_type": "markdown",
   "metadata": {},
   "source": [
    "# Recurrence Relation\n",
    "\n",
    "The next concept is a recurrence relation, and the base case. \n",
    "\n",
    "1. recurrence relation: the relationship between the result of a problem and the result of its subproblems.\n",
    "2. base case: the case where one can compute the answer directly without any further recursion calls. Sometimes, the base cases are also called bottom cases, since they are often the cases where the problem has been reduced to the minimal scale. \n",
    "\n"
   ]
  },
  {
   "cell_type": "markdown",
   "metadata": {},
   "source": [
    "## Reverse Linked List\n",
    "\n",
    "This involves writing a function that will do the following : \n",
    "\n",
    "\n",
    "Input: 1->2->3->4->5->NULL\n",
    "Output: 5->4->3->2->1->NULL\n",
    "\n",
    "### Pseudocode for the the iterative version : \n",
    "\n",
    "* I'll receive a linked list of Nodes that I wi\n",
    "* I'll have the 'head' node, which will need to be switched to the other end\n",
    "\n",
    "* I'll keep a few pointers: \n",
    "    - the head ( for later )\n",
    "    - the previous node.\n",
    "    - the current node\n",
    "    - some value with the next node (which I will use)\n",
    "   "
   ]
  },
  {
   "cell_type": "code",
   "execution_count": 31,
   "metadata": {},
   "outputs": [
    {
     "name": "stdout",
     "output_type": "stream",
     "text": [
      "1\n",
      "2\n",
      "3\n",
      "4\n",
      "5\n",
      "5\n",
      "4\n",
      "3\n",
      "2\n",
      "1\n"
     ]
    }
   ],
   "source": [
    "\n",
    "# Definition for singly-linked list.\n",
    "class Node(object):\n",
    "    def __init__(self, x):\n",
    "        self.val = x\n",
    "        self.next = None\n",
    "    def set_next(self, nextval):\n",
    "        self.next = nextval\n",
    "\n",
    "class LinkedList:\n",
    "    # initialize the head\n",
    "    def __init__(self):\n",
    "        self.head = None\n",
    "    def push(self, new_val):\n",
    "        # to the beginning\n",
    "        newNode = Node(new_val)\n",
    "        newNode.next = self.head\n",
    "        self.head = newNode\n",
    "        \n",
    "    def reverse(self):\n",
    "        # deal with head\n",
    "        current_node = self.head\n",
    "        # initialize previous node\n",
    "        previous_node = None\n",
    "        \n",
    "        while(current_node is not None):\n",
    "            next_node = current_node.next\n",
    "            current_node.next = previous_node\n",
    "            previous_node = current_node\n",
    "            current_node = next_node\n",
    "        self.head = previous_node\n",
    "        \n",
    "    def printList(self):\n",
    "        temp = self.head\n",
    "        while(temp):\n",
    "            print(temp.val)\n",
    "            temp = temp.next\n",
    "\n",
    "global MyList\n",
    "MyList = LinkedList()\n",
    "MyList.push(5)\n",
    "MyList.push(4)\n",
    "MyList.push(3)\n",
    "MyList.push(2)\n",
    "MyList.push(1)\n",
    "\n",
    "MyList.printList()\n",
    "MyList.reverse()\n",
    "MyList.printList()"
   ]
  },
  {
   "cell_type": "markdown",
   "metadata": {},
   "source": [
    "## Now for a recursive version of this\n",
    "\n",
    "How is it going to be different? We have two pieces. A previous node and a current_node that need to be initialized. Can we keep calling this until we \n"
   ]
  },
  {
   "cell_type": "code",
   "execution_count": 4,
   "metadata": {},
   "outputs": [
    {
     "name": "stdout",
     "output_type": "stream",
     "text": [
      "1\n",
      "2\n",
      "3\n",
      "4\n",
      "5\n",
      "5\n",
      "4\n",
      "3\n",
      "2\n",
      "1\n"
     ]
    }
   ],
   "source": [
    "# how would we do this recursively?\n",
    "# Definition for singly-linked list.\n",
    "\n",
    "\n",
    "    \n",
    "\n",
    "class Node(object):\n",
    "    def __init__(self, x):\n",
    "        self.val = x\n",
    "        self.next = None\n",
    "    def set_next(self, nextval):\n",
    "        self.next = nextval\n",
    "\n",
    "class LinkedList:\n",
    "    # initialize the head\n",
    "    def __init__(self):\n",
    "        self.head = None\n",
    "    def push(self, new_val):\n",
    "        # to the beginning\n",
    "        newNode = Node(new_val)\n",
    "        newNode.next = self.head\n",
    "        self.head = newNode\n",
    "    def helper_function_for_switch(self, previous_node, current_node):\n",
    "        # what is our finishing function\n",
    "        # if there is no more node\n",
    "        if current_node.next == None:\n",
    "            self.head = current_node\n",
    "            # mark it done\n",
    "            current_node.next = previous_node\n",
    "            return\n",
    "    \n",
    "        next_node = current_node.next\n",
    "        current_node.next = previous_node\n",
    "        self.helper_function_for_switch(current_node, next_node)        \n",
    "        \n",
    "        \n",
    "    def reverse(self):\n",
    "        if self.head is None:\n",
    "            return\n",
    "        self.helper_function_for_switch(None, self.head)\n",
    "    def printList(self):\n",
    "        temp = self.head\n",
    "        while(temp):\n",
    "            print(temp.val)\n",
    "            temp = temp.next\n",
    "\n",
    "global MyList\n",
    "MyList = LinkedList()\n",
    "MyList.push(5)\n",
    "MyList.push(4)\n",
    "MyList.push(3)\n",
    "MyList.push(2)\n",
    "MyList.push(1)\n",
    "\n",
    "MyList.printList()\n",
    "MyList.reverse()\n",
    "MyList.printList()"
   ]
  },
  {
   "cell_type": "markdown",
   "metadata": {},
   "source": [
    "# Search in a Binary Search Tree\n",
    "\n",
    "Given the root node of a binary search tree (BST) and a value. You need to find the node in the BST that the node's value equals the given value. Return the subtree rooted with that node. If such node doesn't exist, you should return NULL.\n",
    "\n"
   ]
  },
  {
   "cell_type": "code",
   "execution_count": 17,
   "metadata": {},
   "outputs": [
    {
     "name": "stdout",
     "output_type": "stream",
     "text": [
      "0 \n",
      "2 \n",
      "3 \n",
      "4 \n",
      "8 \n"
     ]
    }
   ],
   "source": [
    "# First thing I will need to do is build my own binary tree and traversal algorithm\n",
    "class TreeNode(object):\n",
    "    def __init__(self, x):\n",
    "        self.val = x\n",
    "        self.left = None\n",
    "        self.right = None\n",
    "\n",
    "class Tree(TreeNode):\n",
    "    def __init__(self):\n",
    "        self.root = None\n",
    "    \n",
    "    def getRoot(self):\n",
    "        return self.root\n",
    "    \n",
    "    def insert(self, val):\n",
    "        if self.root == None:\n",
    "            self.root = TreeNode(val)\n",
    "        else:\n",
    "            self._insert(val, self.root)\n",
    "            \n",
    "    def _insert(self, val, node):\n",
    "        if val < node.val:\n",
    "            if node.left is None:\n",
    "                node.left = TreeNode(val)\n",
    "            else:\n",
    "                self._insert(val, node.left)\n",
    "        else:\n",
    "            if node.right is None:\n",
    "                node.right = TreeNode(val)\n",
    "            else:\n",
    "                self._insert(val, node.right)\n",
    "\n",
    "    def find(self, val):\n",
    "        if self.root == None:\n",
    "            return None\n",
    "        else:\n",
    "            return self._find(val, self.root)\n",
    "    \n",
    "    def _find(self, val, node):\n",
    "        if val == node.val:\n",
    "            return node\n",
    "        elif val < node.val and node.left is not None:\n",
    "            self._find(val, node.left)\n",
    "        elif val > node.val and node.right is not None:\n",
    "            self._find(val, node.right)\n",
    "                \n",
    "                \n",
    "    def printtree(self):\n",
    "        if self.root is not None:\n",
    "            self._printtree(self.root)\n",
    "    \n",
    "    def _printtree(self, node):\n",
    "        if node is not None:\n",
    "            self._printtree(node.left)\n",
    "            print(str(node.val) + ' ')\n",
    "            self._printtree(node.right)\n",
    "        \n",
    "\n",
    "global MyTree\n",
    "MyTree = Tree()\n",
    "MyTree.insert(3)\n",
    "MyTree.insert(4)\n",
    "MyTree.insert(0)\n",
    "MyTree.insert(8)\n",
    "MyTree.insert(2)\n",
    "MyTree.printtree()\n"
   ]
  },
  {
   "cell_type": "code",
   "execution_count": null,
   "metadata": {},
   "outputs": [],
   "source": []
  }
 ],
 "metadata": {
  "kernelspec": {
   "display_name": "Python 3",
   "language": "python",
   "name": "python3"
  },
  "language_info": {
   "codemirror_mode": {
    "name": "ipython",
    "version": 3
   },
   "file_extension": ".py",
   "mimetype": "text/x-python",
   "name": "python",
   "nbconvert_exporter": "python",
   "pygments_lexer": "ipython3",
   "version": "3.7.4"
  }
 },
 "nbformat": 4,
 "nbformat_minor": 4
}
